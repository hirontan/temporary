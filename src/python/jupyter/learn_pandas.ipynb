{
 "metadata": {
  "language_info": {
   "codemirror_mode": {
    "name": "ipython",
    "version": 3
   },
   "file_extension": ".py",
   "mimetype": "text/x-python",
   "name": "python",
   "nbconvert_exporter": "python",
   "pygments_lexer": "ipython3",
   "version": "3.7.3-final"
  },
  "orig_nbformat": 2,
  "kernelspec": {
   "name": "python_defaultSpec_1600832832923",
   "display_name": "Python 3.7.3 64-bit ('3.7.3': pyenv)"
  }
 },
 "nbformat": 4,
 "nbformat_minor": 2,
 "cells": [
  {
   "cell_type": "code",
   "execution_count": 1,
   "metadata": {},
   "outputs": [],
   "source": [
    "import numpy as np\n",
    "import pandas as pd"
   ]
  },
  {
   "cell_type": "code",
   "execution_count": 2,
   "metadata": {},
   "outputs": [
    {
     "output_type": "execute_result",
     "data": {
      "text/plain": "0    1.0\n1    2.0\n2    NaN\ndtype: float64"
     },
     "metadata": {},
     "execution_count": 2
    }
   ],
   "source": [
    "s = pd.Series([1, 2, np.nan])\n",
    "s"
   ]
  },
  {
   "cell_type": "code",
   "execution_count": 3,
   "metadata": {},
   "outputs": [
    {
     "output_type": "execute_result",
     "data": {
      "text/plain": "1.0"
     },
     "metadata": {},
     "execution_count": 3
    }
   ],
   "source": [
    "s[0]"
   ]
  },
  {
   "cell_type": "code",
   "execution_count": 4,
   "metadata": {},
   "outputs": [
    {
     "output_type": "execute_result",
     "data": {
      "text/plain": "3.0"
     },
     "metadata": {},
     "execution_count": 4
    }
   ],
   "source": [
    "s.sum()"
   ]
  },
  {
   "cell_type": "code",
   "execution_count": 5,
   "metadata": {},
   "outputs": [
    {
     "output_type": "execute_result",
     "data": {
      "text/plain": "   A  B\n0  1  3\n1  2  4",
      "text/html": "<div>\n<style scoped>\n    .dataframe tbody tr th:only-of-type {\n        vertical-align: middle;\n    }\n\n    .dataframe tbody tr th {\n        vertical-align: top;\n    }\n\n    .dataframe thead th {\n        text-align: right;\n    }\n</style>\n<table border=\"1\" class=\"dataframe\">\n  <thead>\n    <tr style=\"text-align: right;\">\n      <th></th>\n      <th>A</th>\n      <th>B</th>\n    </tr>\n  </thead>\n  <tbody>\n    <tr>\n      <th>0</th>\n      <td>1</td>\n      <td>3</td>\n    </tr>\n    <tr>\n      <th>1</th>\n      <td>2</td>\n      <td>4</td>\n    </tr>\n  </tbody>\n</table>\n</div>"
     },
     "metadata": {},
     "execution_count": 5
    }
   ],
   "source": [
    "df = pd.DataFrame({'A': [1, 2], 'B': [3, 4]})\n",
    "df"
   ]
  },
  {
   "cell_type": "code",
   "execution_count": 6,
   "metadata": {},
   "outputs": [
    {
     "output_type": "execute_result",
     "data": {
      "text/plain": "          0         1         2         3\n0  0.048442 -0.385740 -0.442774  0.036978\n1 -0.626502  0.675770  0.709840 -0.307154\n2  2.090427  0.104108 -1.659549  2.037606\n3 -0.719418 -1.364537  1.988916  0.776144\n4 -0.491049 -0.475142 -0.507292 -1.184035\n5 -0.902301 -0.132132  0.198668  2.134885",
      "text/html": "<div>\n<style scoped>\n    .dataframe tbody tr th:only-of-type {\n        vertical-align: middle;\n    }\n\n    .dataframe tbody tr th {\n        vertical-align: top;\n    }\n\n    .dataframe thead th {\n        text-align: right;\n    }\n</style>\n<table border=\"1\" class=\"dataframe\">\n  <thead>\n    <tr style=\"text-align: right;\">\n      <th></th>\n      <th>0</th>\n      <th>1</th>\n      <th>2</th>\n      <th>3</th>\n    </tr>\n  </thead>\n  <tbody>\n    <tr>\n      <th>0</th>\n      <td>0.048442</td>\n      <td>-0.385740</td>\n      <td>-0.442774</td>\n      <td>0.036978</td>\n    </tr>\n    <tr>\n      <th>1</th>\n      <td>-0.626502</td>\n      <td>0.675770</td>\n      <td>0.709840</td>\n      <td>-0.307154</td>\n    </tr>\n    <tr>\n      <th>2</th>\n      <td>2.090427</td>\n      <td>0.104108</td>\n      <td>-1.659549</td>\n      <td>2.037606</td>\n    </tr>\n    <tr>\n      <th>3</th>\n      <td>-0.719418</td>\n      <td>-1.364537</td>\n      <td>1.988916</td>\n      <td>0.776144</td>\n    </tr>\n    <tr>\n      <th>4</th>\n      <td>-0.491049</td>\n      <td>-0.475142</td>\n      <td>-0.507292</td>\n      <td>-1.184035</td>\n    </tr>\n    <tr>\n      <th>5</th>\n      <td>-0.902301</td>\n      <td>-0.132132</td>\n      <td>0.198668</td>\n      <td>2.134885</td>\n    </tr>\n  </tbody>\n</table>\n</div>"
     },
     "metadata": {},
     "execution_count": 6
    }
   ],
   "source": [
    "df = pd.DataFrame(np.random.randn(6, 4))\n",
    "df"
   ]
  },
  {
   "cell_type": "code",
   "execution_count": 10,
   "metadata": {},
   "outputs": [
    {
     "output_type": "execute_result",
     "data": {
      "text/plain": "                   A         B         C         D\n2017-01-01 -0.962514  0.185461  1.085995 -1.339704\n2017-01-02  0.493644  0.462907  0.180690  0.613257\n2017-01-03  0.073242 -0.167219  0.264816  0.809843\n2017-01-04 -0.788824 -2.142809 -0.511117  0.589478\n2017-01-05 -0.067061  0.443452 -0.379400  0.149979\n2017-01-06 -0.349052  0.336280 -0.913727  0.908515",
      "text/html": "<div>\n<style scoped>\n    .dataframe tbody tr th:only-of-type {\n        vertical-align: middle;\n    }\n\n    .dataframe tbody tr th {\n        vertical-align: top;\n    }\n\n    .dataframe thead th {\n        text-align: right;\n    }\n</style>\n<table border=\"1\" class=\"dataframe\">\n  <thead>\n    <tr style=\"text-align: right;\">\n      <th></th>\n      <th>A</th>\n      <th>B</th>\n      <th>C</th>\n      <th>D</th>\n    </tr>\n  </thead>\n  <tbody>\n    <tr>\n      <th>2017-01-01</th>\n      <td>-0.962514</td>\n      <td>0.185461</td>\n      <td>1.085995</td>\n      <td>-1.339704</td>\n    </tr>\n    <tr>\n      <th>2017-01-02</th>\n      <td>0.493644</td>\n      <td>0.462907</td>\n      <td>0.180690</td>\n      <td>0.613257</td>\n    </tr>\n    <tr>\n      <th>2017-01-03</th>\n      <td>0.073242</td>\n      <td>-0.167219</td>\n      <td>0.264816</td>\n      <td>0.809843</td>\n    </tr>\n    <tr>\n      <th>2017-01-04</th>\n      <td>-0.788824</td>\n      <td>-2.142809</td>\n      <td>-0.511117</td>\n      <td>0.589478</td>\n    </tr>\n    <tr>\n      <th>2017-01-05</th>\n      <td>-0.067061</td>\n      <td>0.443452</td>\n      <td>-0.379400</td>\n      <td>0.149979</td>\n    </tr>\n    <tr>\n      <th>2017-01-06</th>\n      <td>-0.349052</td>\n      <td>0.336280</td>\n      <td>-0.913727</td>\n      <td>0.908515</td>\n    </tr>\n  </tbody>\n</table>\n</div>"
     },
     "metadata": {},
     "execution_count": 10
    }
   ],
   "source": [
    "df = pd.DataFrame(np.random.randn(6, 4), index=pd.date_range('20170101', periods=6), columns=['A', 'B', 'C', 'D'])\n",
    "df"
   ]
  },
  {
   "cell_type": "code",
   "execution_count": 11,
   "metadata": {},
   "outputs": [
    {
     "output_type": "execute_result",
     "data": {
      "text/plain": "                   A         B         C         D\n2017-01-01 -0.962514  0.185461  1.085995 -1.339704",
      "text/html": "<div>\n<style scoped>\n    .dataframe tbody tr th:only-of-type {\n        vertical-align: middle;\n    }\n\n    .dataframe tbody tr th {\n        vertical-align: top;\n    }\n\n    .dataframe thead th {\n        text-align: right;\n    }\n</style>\n<table border=\"1\" class=\"dataframe\">\n  <thead>\n    <tr style=\"text-align: right;\">\n      <th></th>\n      <th>A</th>\n      <th>B</th>\n      <th>C</th>\n      <th>D</th>\n    </tr>\n  </thead>\n  <tbody>\n    <tr>\n      <th>2017-01-01</th>\n      <td>-0.962514</td>\n      <td>0.185461</td>\n      <td>1.085995</td>\n      <td>-1.339704</td>\n    </tr>\n  </tbody>\n</table>\n</div>"
     },
     "metadata": {},
     "execution_count": 11
    }
   ],
   "source": [
    "df.head(1)"
   ]
  },
  {
   "cell_type": "code",
   "execution_count": 12,
   "metadata": {},
   "outputs": [
    {
     "output_type": "execute_result",
     "data": {
      "text/plain": "                   A         B         C         D\n2017-01-04 -0.788824 -2.142809 -0.511117  0.589478\n2017-01-05 -0.067061  0.443452 -0.379400  0.149979\n2017-01-06 -0.349052  0.336280 -0.913727  0.908515",
      "text/html": "<div>\n<style scoped>\n    .dataframe tbody tr th:only-of-type {\n        vertical-align: middle;\n    }\n\n    .dataframe tbody tr th {\n        vertical-align: top;\n    }\n\n    .dataframe thead th {\n        text-align: right;\n    }\n</style>\n<table border=\"1\" class=\"dataframe\">\n  <thead>\n    <tr style=\"text-align: right;\">\n      <th></th>\n      <th>A</th>\n      <th>B</th>\n      <th>C</th>\n      <th>D</th>\n    </tr>\n  </thead>\n  <tbody>\n    <tr>\n      <th>2017-01-04</th>\n      <td>-0.788824</td>\n      <td>-2.142809</td>\n      <td>-0.511117</td>\n      <td>0.589478</td>\n    </tr>\n    <tr>\n      <th>2017-01-05</th>\n      <td>-0.067061</td>\n      <td>0.443452</td>\n      <td>-0.379400</td>\n      <td>0.149979</td>\n    </tr>\n    <tr>\n      <th>2017-01-06</th>\n      <td>-0.349052</td>\n      <td>0.336280</td>\n      <td>-0.913727</td>\n      <td>0.908515</td>\n    </tr>\n  </tbody>\n</table>\n</div>"
     },
     "metadata": {},
     "execution_count": 12
    }
   ],
   "source": [
    "df.tail(3)"
   ]
  },
  {
   "cell_type": "code",
   "execution_count": 13,
   "metadata": {},
   "outputs": [
    {
     "output_type": "execute_result",
     "data": {
      "text/plain": "DatetimeIndex(['2017-01-01', '2017-01-02', '2017-01-03', '2017-01-04',\n               '2017-01-05', '2017-01-06'],\n              dtype='datetime64[ns]', freq='D')"
     },
     "metadata": {},
     "execution_count": 13
    }
   ],
   "source": [
    "df.index"
   ]
  },
  {
   "cell_type": "code",
   "execution_count": 14,
   "metadata": {},
   "outputs": [
    {
     "output_type": "execute_result",
     "data": {
      "text/plain": "Index(['A', 'B', 'C', 'D'], dtype='object')"
     },
     "metadata": {},
     "execution_count": 14
    }
   ],
   "source": [
    "df.columns"
   ]
  },
  {
   "cell_type": "code",
   "execution_count": 15,
   "metadata": {},
   "outputs": [
    {
     "output_type": "execute_result",
     "data": {
      "text/plain": "array([[-0.96251413,  0.18546118,  1.08599463, -1.3397039 ],\n       [ 0.49364356,  0.46290722,  0.18069049,  0.61325661],\n       [ 0.0732417 , -0.16721928,  0.26481606,  0.80984276],\n       [-0.78882426, -2.14280911, -0.51111714,  0.58947797],\n       [-0.06706088,  0.44345177, -0.37939989,  0.14997929],\n       [-0.34905219,  0.33627992, -0.91372653,  0.90851541]])"
     },
     "metadata": {},
     "execution_count": 15
    }
   ],
   "source": [
    "df.values"
   ]
  },
  {
   "cell_type": "code",
   "execution_count": 16,
   "metadata": {},
   "outputs": [
    {
     "output_type": "execute_result",
     "data": {
      "text/plain": "              A         B         C         D\ncount  6.000000  6.000000  6.000000  6.000000\nmean  -0.266761 -0.146988 -0.045457  0.288561\nstd    0.547191  1.004826  0.708498  0.839346\nmin   -0.962514 -2.142809 -0.913727 -1.339704\n25%   -0.678881 -0.079049 -0.478188  0.259854\n50%   -0.208057  0.260871 -0.099355  0.601367\n75%    0.038166  0.416659  0.243785  0.760696\nmax    0.493644  0.462907  1.085995  0.908515",
      "text/html": "<div>\n<style scoped>\n    .dataframe tbody tr th:only-of-type {\n        vertical-align: middle;\n    }\n\n    .dataframe tbody tr th {\n        vertical-align: top;\n    }\n\n    .dataframe thead th {\n        text-align: right;\n    }\n</style>\n<table border=\"1\" class=\"dataframe\">\n  <thead>\n    <tr style=\"text-align: right;\">\n      <th></th>\n      <th>A</th>\n      <th>B</th>\n      <th>C</th>\n      <th>D</th>\n    </tr>\n  </thead>\n  <tbody>\n    <tr>\n      <th>count</th>\n      <td>6.000000</td>\n      <td>6.000000</td>\n      <td>6.000000</td>\n      <td>6.000000</td>\n    </tr>\n    <tr>\n      <th>mean</th>\n      <td>-0.266761</td>\n      <td>-0.146988</td>\n      <td>-0.045457</td>\n      <td>0.288561</td>\n    </tr>\n    <tr>\n      <th>std</th>\n      <td>0.547191</td>\n      <td>1.004826</td>\n      <td>0.708498</td>\n      <td>0.839346</td>\n    </tr>\n    <tr>\n      <th>min</th>\n      <td>-0.962514</td>\n      <td>-2.142809</td>\n      <td>-0.913727</td>\n      <td>-1.339704</td>\n    </tr>\n    <tr>\n      <th>25%</th>\n      <td>-0.678881</td>\n      <td>-0.079049</td>\n      <td>-0.478188</td>\n      <td>0.259854</td>\n    </tr>\n    <tr>\n      <th>50%</th>\n      <td>-0.208057</td>\n      <td>0.260871</td>\n      <td>-0.099355</td>\n      <td>0.601367</td>\n    </tr>\n    <tr>\n      <th>75%</th>\n      <td>0.038166</td>\n      <td>0.416659</td>\n      <td>0.243785</td>\n      <td>0.760696</td>\n    </tr>\n    <tr>\n      <th>max</th>\n      <td>0.493644</td>\n      <td>0.462907</td>\n      <td>1.085995</td>\n      <td>0.908515</td>\n    </tr>\n  </tbody>\n</table>\n</div>"
     },
     "metadata": {},
     "execution_count": 16
    }
   ],
   "source": [
    "df.describe()"
   ]
  },
  {
   "cell_type": "code",
   "execution_count": 17,
   "metadata": {},
   "outputs": [
    {
     "output_type": "execute_result",
     "data": {
      "text/plain": "   2017-01-01  2017-01-02  2017-01-03  2017-01-04  2017-01-05  2017-01-06\nA   -0.962514    0.493644    0.073242   -0.788824   -0.067061   -0.349052\nB    0.185461    0.462907   -0.167219   -2.142809    0.443452    0.336280\nC    1.085995    0.180690    0.264816   -0.511117   -0.379400   -0.913727\nD   -1.339704    0.613257    0.809843    0.589478    0.149979    0.908515",
      "text/html": "<div>\n<style scoped>\n    .dataframe tbody tr th:only-of-type {\n        vertical-align: middle;\n    }\n\n    .dataframe tbody tr th {\n        vertical-align: top;\n    }\n\n    .dataframe thead th {\n        text-align: right;\n    }\n</style>\n<table border=\"1\" class=\"dataframe\">\n  <thead>\n    <tr style=\"text-align: right;\">\n      <th></th>\n      <th>2017-01-01 00:00:00</th>\n      <th>2017-01-02 00:00:00</th>\n      <th>2017-01-03 00:00:00</th>\n      <th>2017-01-04 00:00:00</th>\n      <th>2017-01-05 00:00:00</th>\n      <th>2017-01-06 00:00:00</th>\n    </tr>\n  </thead>\n  <tbody>\n    <tr>\n      <th>A</th>\n      <td>-0.962514</td>\n      <td>0.493644</td>\n      <td>0.073242</td>\n      <td>-0.788824</td>\n      <td>-0.067061</td>\n      <td>-0.349052</td>\n    </tr>\n    <tr>\n      <th>B</th>\n      <td>0.185461</td>\n      <td>0.462907</td>\n      <td>-0.167219</td>\n      <td>-2.142809</td>\n      <td>0.443452</td>\n      <td>0.336280</td>\n    </tr>\n    <tr>\n      <th>C</th>\n      <td>1.085995</td>\n      <td>0.180690</td>\n      <td>0.264816</td>\n      <td>-0.511117</td>\n      <td>-0.379400</td>\n      <td>-0.913727</td>\n    </tr>\n    <tr>\n      <th>D</th>\n      <td>-1.339704</td>\n      <td>0.613257</td>\n      <td>0.809843</td>\n      <td>0.589478</td>\n      <td>0.149979</td>\n      <td>0.908515</td>\n    </tr>\n  </tbody>\n</table>\n</div>"
     },
     "metadata": {},
     "execution_count": 17
    }
   ],
   "source": [
    "df.T"
   ]
  },
  {
   "cell_type": "code",
   "execution_count": 19,
   "metadata": {},
   "outputs": [
    {
     "output_type": "execute_result",
     "data": {
      "text/plain": "                   A         B         C         D\n2017-01-04 -0.788824 -2.142809 -0.511117  0.589478\n2017-01-03  0.073242 -0.167219  0.264816  0.809843\n2017-01-01 -0.962514  0.185461  1.085995 -1.339704\n2017-01-06 -0.349052  0.336280 -0.913727  0.908515\n2017-01-05 -0.067061  0.443452 -0.379400  0.149979\n2017-01-02  0.493644  0.462907  0.180690  0.613257",
      "text/html": "<div>\n<style scoped>\n    .dataframe tbody tr th:only-of-type {\n        vertical-align: middle;\n    }\n\n    .dataframe tbody tr th {\n        vertical-align: top;\n    }\n\n    .dataframe thead th {\n        text-align: right;\n    }\n</style>\n<table border=\"1\" class=\"dataframe\">\n  <thead>\n    <tr style=\"text-align: right;\">\n      <th></th>\n      <th>A</th>\n      <th>B</th>\n      <th>C</th>\n      <th>D</th>\n    </tr>\n  </thead>\n  <tbody>\n    <tr>\n      <th>2017-01-04</th>\n      <td>-0.788824</td>\n      <td>-2.142809</td>\n      <td>-0.511117</td>\n      <td>0.589478</td>\n    </tr>\n    <tr>\n      <th>2017-01-03</th>\n      <td>0.073242</td>\n      <td>-0.167219</td>\n      <td>0.264816</td>\n      <td>0.809843</td>\n    </tr>\n    <tr>\n      <th>2017-01-01</th>\n      <td>-0.962514</td>\n      <td>0.185461</td>\n      <td>1.085995</td>\n      <td>-1.339704</td>\n    </tr>\n    <tr>\n      <th>2017-01-06</th>\n      <td>-0.349052</td>\n      <td>0.336280</td>\n      <td>-0.913727</td>\n      <td>0.908515</td>\n    </tr>\n    <tr>\n      <th>2017-01-05</th>\n      <td>-0.067061</td>\n      <td>0.443452</td>\n      <td>-0.379400</td>\n      <td>0.149979</td>\n    </tr>\n    <tr>\n      <th>2017-01-02</th>\n      <td>0.493644</td>\n      <td>0.462907</td>\n      <td>0.180690</td>\n      <td>0.613257</td>\n    </tr>\n  </tbody>\n</table>\n</div>"
     },
     "metadata": {},
     "execution_count": 19
    }
   ],
   "source": [
    "df.sort_values(by='B')"
   ]
  },
  {
   "cell_type": "code",
   "execution_count": 20,
   "metadata": {},
   "outputs": [
    {
     "output_type": "execute_result",
     "data": {
      "text/plain": "                   A         B         C         D\n2017-01-01 -0.962514  0.185461  1.085995 -1.339704\n2017-01-02  0.493644  0.462907  0.180690  0.613257\n2017-01-03  0.073242 -0.167219  0.264816  0.809843",
      "text/html": "<div>\n<style scoped>\n    .dataframe tbody tr th:only-of-type {\n        vertical-align: middle;\n    }\n\n    .dataframe tbody tr th {\n        vertical-align: top;\n    }\n\n    .dataframe thead th {\n        text-align: right;\n    }\n</style>\n<table border=\"1\" class=\"dataframe\">\n  <thead>\n    <tr style=\"text-align: right;\">\n      <th></th>\n      <th>A</th>\n      <th>B</th>\n      <th>C</th>\n      <th>D</th>\n    </tr>\n  </thead>\n  <tbody>\n    <tr>\n      <th>2017-01-01</th>\n      <td>-0.962514</td>\n      <td>0.185461</td>\n      <td>1.085995</td>\n      <td>-1.339704</td>\n    </tr>\n    <tr>\n      <th>2017-01-02</th>\n      <td>0.493644</td>\n      <td>0.462907</td>\n      <td>0.180690</td>\n      <td>0.613257</td>\n    </tr>\n    <tr>\n      <th>2017-01-03</th>\n      <td>0.073242</td>\n      <td>-0.167219</td>\n      <td>0.264816</td>\n      <td>0.809843</td>\n    </tr>\n  </tbody>\n</table>\n</div>"
     },
     "metadata": {},
     "execution_count": 20
    }
   ],
   "source": [
    "df[0:3]"
   ]
  },
  {
   "cell_type": "code",
   "execution_count": 21,
   "metadata": {},
   "outputs": [
    {
     "output_type": "execute_result",
     "data": {
      "text/plain": "                   A         B         C         D\n2017-01-02  0.493644  0.462907  0.180690  0.613257\n2017-01-03  0.073242 -0.167219  0.264816  0.809843\n2017-01-04 -0.788824 -2.142809 -0.511117  0.589478",
      "text/html": "<div>\n<style scoped>\n    .dataframe tbody tr th:only-of-type {\n        vertical-align: middle;\n    }\n\n    .dataframe tbody tr th {\n        vertical-align: top;\n    }\n\n    .dataframe thead th {\n        text-align: right;\n    }\n</style>\n<table border=\"1\" class=\"dataframe\">\n  <thead>\n    <tr style=\"text-align: right;\">\n      <th></th>\n      <th>A</th>\n      <th>B</th>\n      <th>C</th>\n      <th>D</th>\n    </tr>\n  </thead>\n  <tbody>\n    <tr>\n      <th>2017-01-02</th>\n      <td>0.493644</td>\n      <td>0.462907</td>\n      <td>0.180690</td>\n      <td>0.613257</td>\n    </tr>\n    <tr>\n      <th>2017-01-03</th>\n      <td>0.073242</td>\n      <td>-0.167219</td>\n      <td>0.264816</td>\n      <td>0.809843</td>\n    </tr>\n    <tr>\n      <th>2017-01-04</th>\n      <td>-0.788824</td>\n      <td>-2.142809</td>\n      <td>-0.511117</td>\n      <td>0.589478</td>\n    </tr>\n  </tbody>\n</table>\n</div>"
     },
     "metadata": {},
     "execution_count": 21
    }
   ],
   "source": [
    "df['20170102':'20170104']"
   ]
  },
  {
   "cell_type": "code",
   "execution_count": 22,
   "metadata": {},
   "outputs": [
    {
     "output_type": "execute_result",
     "data": {
      "text/plain": "A   -0.962514\nB    0.185461\nC    1.085995\nD   -1.339704\nName: 2017-01-01 00:00:00, dtype: float64"
     },
     "metadata": {},
     "execution_count": 22
    }
   ],
   "source": [
    "df.loc['20170101']"
   ]
  },
  {
   "cell_type": "code",
   "execution_count": 23,
   "metadata": {},
   "outputs": [
    {
     "output_type": "execute_result",
     "data": {
      "text/plain": "A   -0.962514\nB    0.185461\nName: 2017-01-01 00:00:00, dtype: float64"
     },
     "metadata": {},
     "execution_count": 23
    }
   ],
   "source": [
    "df.loc['20170101', ['A', 'B']]"
   ]
  },
  {
   "cell_type": "code",
   "execution_count": 24,
   "metadata": {},
   "outputs": [
    {
     "output_type": "execute_result",
     "data": {
      "text/plain": "                   A         B         C         D\n2017-01-01 -0.962514  0.185461  1.085995 -1.339704\n2017-01-02  0.493644  0.462907  0.180690  0.613257\n2017-01-05 -0.067061  0.443452 -0.379400  0.149979\n2017-01-06 -0.349052  0.336280 -0.913727  0.908515",
      "text/html": "<div>\n<style scoped>\n    .dataframe tbody tr th:only-of-type {\n        vertical-align: middle;\n    }\n\n    .dataframe tbody tr th {\n        vertical-align: top;\n    }\n\n    .dataframe thead th {\n        text-align: right;\n    }\n</style>\n<table border=\"1\" class=\"dataframe\">\n  <thead>\n    <tr style=\"text-align: right;\">\n      <th></th>\n      <th>A</th>\n      <th>B</th>\n      <th>C</th>\n      <th>D</th>\n    </tr>\n  </thead>\n  <tbody>\n    <tr>\n      <th>2017-01-01</th>\n      <td>-0.962514</td>\n      <td>0.185461</td>\n      <td>1.085995</td>\n      <td>-1.339704</td>\n    </tr>\n    <tr>\n      <th>2017-01-02</th>\n      <td>0.493644</td>\n      <td>0.462907</td>\n      <td>0.180690</td>\n      <td>0.613257</td>\n    </tr>\n    <tr>\n      <th>2017-01-05</th>\n      <td>-0.067061</td>\n      <td>0.443452</td>\n      <td>-0.379400</td>\n      <td>0.149979</td>\n    </tr>\n    <tr>\n      <th>2017-01-06</th>\n      <td>-0.349052</td>\n      <td>0.336280</td>\n      <td>-0.913727</td>\n      <td>0.908515</td>\n    </tr>\n  </tbody>\n</table>\n</div>"
     },
     "metadata": {},
     "execution_count": 24
    }
   ],
   "source": [
    "df[df.B > 0]"
   ]
  },
  {
   "cell_type": "code",
   "execution_count": 26,
   "metadata": {},
   "outputs": [],
   "source": [
    "df2 = df.copy()\n",
    "df2['E'] = ['one', 'one','two', 'three', 'four', 'three']"
   ]
  },
  {
   "cell_type": "code",
   "execution_count": 27,
   "metadata": {},
   "outputs": [
    {
     "output_type": "execute_result",
     "data": {
      "text/plain": "                   A         B         C         D      E\n2017-01-01 -0.962514  0.185461  1.085995 -1.339704    one\n2017-01-02  0.493644  0.462907  0.180690  0.613257    one\n2017-01-03  0.073242 -0.167219  0.264816  0.809843    two\n2017-01-04 -0.788824 -2.142809 -0.511117  0.589478  three\n2017-01-05 -0.067061  0.443452 -0.379400  0.149979   four\n2017-01-06 -0.349052  0.336280 -0.913727  0.908515  three",
      "text/html": "<div>\n<style scoped>\n    .dataframe tbody tr th:only-of-type {\n        vertical-align: middle;\n    }\n\n    .dataframe tbody tr th {\n        vertical-align: top;\n    }\n\n    .dataframe thead th {\n        text-align: right;\n    }\n</style>\n<table border=\"1\" class=\"dataframe\">\n  <thead>\n    <tr style=\"text-align: right;\">\n      <th></th>\n      <th>A</th>\n      <th>B</th>\n      <th>C</th>\n      <th>D</th>\n      <th>E</th>\n    </tr>\n  </thead>\n  <tbody>\n    <tr>\n      <th>2017-01-01</th>\n      <td>-0.962514</td>\n      <td>0.185461</td>\n      <td>1.085995</td>\n      <td>-1.339704</td>\n      <td>one</td>\n    </tr>\n    <tr>\n      <th>2017-01-02</th>\n      <td>0.493644</td>\n      <td>0.462907</td>\n      <td>0.180690</td>\n      <td>0.613257</td>\n      <td>one</td>\n    </tr>\n    <tr>\n      <th>2017-01-03</th>\n      <td>0.073242</td>\n      <td>-0.167219</td>\n      <td>0.264816</td>\n      <td>0.809843</td>\n      <td>two</td>\n    </tr>\n    <tr>\n      <th>2017-01-04</th>\n      <td>-0.788824</td>\n      <td>-2.142809</td>\n      <td>-0.511117</td>\n      <td>0.589478</td>\n      <td>three</td>\n    </tr>\n    <tr>\n      <th>2017-01-05</th>\n      <td>-0.067061</td>\n      <td>0.443452</td>\n      <td>-0.379400</td>\n      <td>0.149979</td>\n      <td>four</td>\n    </tr>\n    <tr>\n      <th>2017-01-06</th>\n      <td>-0.349052</td>\n      <td>0.336280</td>\n      <td>-0.913727</td>\n      <td>0.908515</td>\n      <td>three</td>\n    </tr>\n  </tbody>\n</table>\n</div>"
     },
     "metadata": {},
     "execution_count": 27
    }
   ],
   "source": [
    "df2"
   ]
  },
  {
   "cell_type": "code",
   "execution_count": 28,
   "metadata": {},
   "outputs": [
    {
     "output_type": "execute_result",
     "data": {
      "text/plain": "                   A         B         C         D     E\n2017-01-01 -0.962514  0.185461  1.085995 -1.339704   one\n2017-01-02  0.493644  0.462907  0.180690  0.613257   one\n2017-01-05 -0.067061  0.443452 -0.379400  0.149979  four",
      "text/html": "<div>\n<style scoped>\n    .dataframe tbody tr th:only-of-type {\n        vertical-align: middle;\n    }\n\n    .dataframe tbody tr th {\n        vertical-align: top;\n    }\n\n    .dataframe thead th {\n        text-align: right;\n    }\n</style>\n<table border=\"1\" class=\"dataframe\">\n  <thead>\n    <tr style=\"text-align: right;\">\n      <th></th>\n      <th>A</th>\n      <th>B</th>\n      <th>C</th>\n      <th>D</th>\n      <th>E</th>\n    </tr>\n  </thead>\n  <tbody>\n    <tr>\n      <th>2017-01-01</th>\n      <td>-0.962514</td>\n      <td>0.185461</td>\n      <td>1.085995</td>\n      <td>-1.339704</td>\n      <td>one</td>\n    </tr>\n    <tr>\n      <th>2017-01-02</th>\n      <td>0.493644</td>\n      <td>0.462907</td>\n      <td>0.180690</td>\n      <td>0.613257</td>\n      <td>one</td>\n    </tr>\n    <tr>\n      <th>2017-01-05</th>\n      <td>-0.067061</td>\n      <td>0.443452</td>\n      <td>-0.379400</td>\n      <td>0.149979</td>\n      <td>four</td>\n    </tr>\n  </tbody>\n</table>\n</div>"
     },
     "metadata": {},
     "execution_count": 28
    }
   ],
   "source": [
    "df2[df2['E'].isin(['one', 'four'])]"
   ]
  },
  {
   "cell_type": "code",
   "execution_count": 29,
   "metadata": {},
   "outputs": [
    {
     "output_type": "execute_result",
     "data": {
      "text/plain": "                   A         B         C         D\n2017-01-01 -0.962514  0.185461  1.085995 -1.339704\n2017-01-02  0.493644  0.462907  0.180690  0.613257\n2017-01-03  0.073242 -0.167219  0.264816  0.809843\n2017-01-04 -0.788824 -2.142809 -0.511117  0.589478\n2017-01-05 -0.067061  0.443452 -0.379400  0.149979\n2017-01-06 -0.349052  0.336280 -0.913727  0.908515",
      "text/html": "<div>\n<style scoped>\n    .dataframe tbody tr th:only-of-type {\n        vertical-align: middle;\n    }\n\n    .dataframe tbody tr th {\n        vertical-align: top;\n    }\n\n    .dataframe thead th {\n        text-align: right;\n    }\n</style>\n<table border=\"1\" class=\"dataframe\">\n  <thead>\n    <tr style=\"text-align: right;\">\n      <th></th>\n      <th>A</th>\n      <th>B</th>\n      <th>C</th>\n      <th>D</th>\n    </tr>\n  </thead>\n  <tbody>\n    <tr>\n      <th>2017-01-01</th>\n      <td>-0.962514</td>\n      <td>0.185461</td>\n      <td>1.085995</td>\n      <td>-1.339704</td>\n    </tr>\n    <tr>\n      <th>2017-01-02</th>\n      <td>0.493644</td>\n      <td>0.462907</td>\n      <td>0.180690</td>\n      <td>0.613257</td>\n    </tr>\n    <tr>\n      <th>2017-01-03</th>\n      <td>0.073242</td>\n      <td>-0.167219</td>\n      <td>0.264816</td>\n      <td>0.809843</td>\n    </tr>\n    <tr>\n      <th>2017-01-04</th>\n      <td>-0.788824</td>\n      <td>-2.142809</td>\n      <td>-0.511117</td>\n      <td>0.589478</td>\n    </tr>\n    <tr>\n      <th>2017-01-05</th>\n      <td>-0.067061</td>\n      <td>0.443452</td>\n      <td>-0.379400</td>\n      <td>0.149979</td>\n    </tr>\n    <tr>\n      <th>2017-01-06</th>\n      <td>-0.349052</td>\n      <td>0.336280</td>\n      <td>-0.913727</td>\n      <td>0.908515</td>\n    </tr>\n  </tbody>\n</table>\n</div>"
     },
     "metadata": {},
     "execution_count": 29
    }
   ],
   "source": [
    "df"
   ]
  },
  {
   "cell_type": "code",
   "execution_count": 30,
   "metadata": {},
   "outputs": [],
   "source": [
    "s = pd.Series([1, 2, 3, 4, 5, 6], index=pd.date_range('20170101', periods=6))"
   ]
  },
  {
   "cell_type": "code",
   "execution_count": 31,
   "metadata": {},
   "outputs": [
    {
     "output_type": "execute_result",
     "data": {
      "text/plain": "2017-01-01    1\n2017-01-02    2\n2017-01-03    3\n2017-01-04    4\n2017-01-05    5\n2017-01-06    6\nFreq: D, dtype: int64"
     },
     "metadata": {},
     "execution_count": 31
    }
   ],
   "source": [
    "s"
   ]
  },
  {
   "cell_type": "code",
   "execution_count": 32,
   "metadata": {},
   "outputs": [],
   "source": [
    "df['E'] = s"
   ]
  },
  {
   "cell_type": "code",
   "execution_count": 33,
   "metadata": {},
   "outputs": [
    {
     "output_type": "execute_result",
     "data": {
      "text/plain": "                   A         B         C         D  E\n2017-01-01 -0.962514  0.185461  1.085995 -1.339704  1\n2017-01-02  0.493644  0.462907  0.180690  0.613257  2\n2017-01-03  0.073242 -0.167219  0.264816  0.809843  3\n2017-01-04 -0.788824 -2.142809 -0.511117  0.589478  4\n2017-01-05 -0.067061  0.443452 -0.379400  0.149979  5\n2017-01-06 -0.349052  0.336280 -0.913727  0.908515  6",
      "text/html": "<div>\n<style scoped>\n    .dataframe tbody tr th:only-of-type {\n        vertical-align: middle;\n    }\n\n    .dataframe tbody tr th {\n        vertical-align: top;\n    }\n\n    .dataframe thead th {\n        text-align: right;\n    }\n</style>\n<table border=\"1\" class=\"dataframe\">\n  <thead>\n    <tr style=\"text-align: right;\">\n      <th></th>\n      <th>A</th>\n      <th>B</th>\n      <th>C</th>\n      <th>D</th>\n      <th>E</th>\n    </tr>\n  </thead>\n  <tbody>\n    <tr>\n      <th>2017-01-01</th>\n      <td>-0.962514</td>\n      <td>0.185461</td>\n      <td>1.085995</td>\n      <td>-1.339704</td>\n      <td>1</td>\n    </tr>\n    <tr>\n      <th>2017-01-02</th>\n      <td>0.493644</td>\n      <td>0.462907</td>\n      <td>0.180690</td>\n      <td>0.613257</td>\n      <td>2</td>\n    </tr>\n    <tr>\n      <th>2017-01-03</th>\n      <td>0.073242</td>\n      <td>-0.167219</td>\n      <td>0.264816</td>\n      <td>0.809843</td>\n      <td>3</td>\n    </tr>\n    <tr>\n      <th>2017-01-04</th>\n      <td>-0.788824</td>\n      <td>-2.142809</td>\n      <td>-0.511117</td>\n      <td>0.589478</td>\n      <td>4</td>\n    </tr>\n    <tr>\n      <th>2017-01-05</th>\n      <td>-0.067061</td>\n      <td>0.443452</td>\n      <td>-0.379400</td>\n      <td>0.149979</td>\n      <td>5</td>\n    </tr>\n    <tr>\n      <th>2017-01-06</th>\n      <td>-0.349052</td>\n      <td>0.336280</td>\n      <td>-0.913727</td>\n      <td>0.908515</td>\n      <td>6</td>\n    </tr>\n  </tbody>\n</table>\n</div>"
     },
     "metadata": {},
     "execution_count": 33
    }
   ],
   "source": [
    "df"
   ]
  },
  {
   "cell_type": "code",
   "execution_count": 34,
   "metadata": {},
   "outputs": [
    {
     "output_type": "execute_result",
     "data": {
      "text/plain": "                   A         B         C         D    E\n2017-01-01       NaN       NaN       NaN       NaN  NaN\n2017-01-02 -0.962514  0.185461  1.085995 -1.339704  1.0\n2017-01-03  0.493644  0.462907  0.180690  0.613257  2.0\n2017-01-04  0.073242 -0.167219  0.264816  0.809843  3.0\n2017-01-05 -0.788824 -2.142809 -0.511117  0.589478  4.0\n2017-01-06 -0.067061  0.443452 -0.379400  0.149979  5.0",
      "text/html": "<div>\n<style scoped>\n    .dataframe tbody tr th:only-of-type {\n        vertical-align: middle;\n    }\n\n    .dataframe tbody tr th {\n        vertical-align: top;\n    }\n\n    .dataframe thead th {\n        text-align: right;\n    }\n</style>\n<table border=\"1\" class=\"dataframe\">\n  <thead>\n    <tr style=\"text-align: right;\">\n      <th></th>\n      <th>A</th>\n      <th>B</th>\n      <th>C</th>\n      <th>D</th>\n      <th>E</th>\n    </tr>\n  </thead>\n  <tbody>\n    <tr>\n      <th>2017-01-01</th>\n      <td>NaN</td>\n      <td>NaN</td>\n      <td>NaN</td>\n      <td>NaN</td>\n      <td>NaN</td>\n    </tr>\n    <tr>\n      <th>2017-01-02</th>\n      <td>-0.962514</td>\n      <td>0.185461</td>\n      <td>1.085995</td>\n      <td>-1.339704</td>\n      <td>1.0</td>\n    </tr>\n    <tr>\n      <th>2017-01-03</th>\n      <td>0.493644</td>\n      <td>0.462907</td>\n      <td>0.180690</td>\n      <td>0.613257</td>\n      <td>2.0</td>\n    </tr>\n    <tr>\n      <th>2017-01-04</th>\n      <td>0.073242</td>\n      <td>-0.167219</td>\n      <td>0.264816</td>\n      <td>0.809843</td>\n      <td>3.0</td>\n    </tr>\n    <tr>\n      <th>2017-01-05</th>\n      <td>-0.788824</td>\n      <td>-2.142809</td>\n      <td>-0.511117</td>\n      <td>0.589478</td>\n      <td>4.0</td>\n    </tr>\n    <tr>\n      <th>2017-01-06</th>\n      <td>-0.067061</td>\n      <td>0.443452</td>\n      <td>-0.379400</td>\n      <td>0.149979</td>\n      <td>5.0</td>\n    </tr>\n  </tbody>\n</table>\n</div>"
     },
     "metadata": {},
     "execution_count": 34
    }
   ],
   "source": [
    "df.shift(1)"
   ]
  },
  {
   "cell_type": "code",
   "execution_count": 35,
   "metadata": {},
   "outputs": [],
   "source": [
    "df = pd.DataFrame(np.random.randn(2, 2))"
   ]
  },
  {
   "cell_type": "code",
   "execution_count": 36,
   "metadata": {},
   "outputs": [
    {
     "output_type": "execute_result",
     "data": {
      "text/plain": "          0         1\n0  0.950103 -0.653613\n1  0.744603 -1.435329",
      "text/html": "<div>\n<style scoped>\n    .dataframe tbody tr th:only-of-type {\n        vertical-align: middle;\n    }\n\n    .dataframe tbody tr th {\n        vertical-align: top;\n    }\n\n    .dataframe thead th {\n        text-align: right;\n    }\n</style>\n<table border=\"1\" class=\"dataframe\">\n  <thead>\n    <tr style=\"text-align: right;\">\n      <th></th>\n      <th>0</th>\n      <th>1</th>\n    </tr>\n  </thead>\n  <tbody>\n    <tr>\n      <th>0</th>\n      <td>0.950103</td>\n      <td>-0.653613</td>\n    </tr>\n    <tr>\n      <th>1</th>\n      <td>0.744603</td>\n      <td>-1.435329</td>\n    </tr>\n  </tbody>\n</table>\n</div>"
     },
     "metadata": {},
     "execution_count": 36
    }
   ],
   "source": [
    "df"
   ]
  },
  {
   "cell_type": "code",
   "execution_count": 38,
   "metadata": {},
   "outputs": [
    {
     "output_type": "execute_result",
     "data": {
      "text/plain": "          0         1\n0  0.950103 -0.653613\n1  0.744603 -1.435329\n0  0.950103 -0.653613\n1  0.744603 -1.435329",
      "text/html": "<div>\n<style scoped>\n    .dataframe tbody tr th:only-of-type {\n        vertical-align: middle;\n    }\n\n    .dataframe tbody tr th {\n        vertical-align: top;\n    }\n\n    .dataframe thead th {\n        text-align: right;\n    }\n</style>\n<table border=\"1\" class=\"dataframe\">\n  <thead>\n    <tr style=\"text-align: right;\">\n      <th></th>\n      <th>0</th>\n      <th>1</th>\n    </tr>\n  </thead>\n  <tbody>\n    <tr>\n      <th>0</th>\n      <td>0.950103</td>\n      <td>-0.653613</td>\n    </tr>\n    <tr>\n      <th>1</th>\n      <td>0.744603</td>\n      <td>-1.435329</td>\n    </tr>\n    <tr>\n      <th>0</th>\n      <td>0.950103</td>\n      <td>-0.653613</td>\n    </tr>\n    <tr>\n      <th>1</th>\n      <td>0.744603</td>\n      <td>-1.435329</td>\n    </tr>\n  </tbody>\n</table>\n</div>"
     },
     "metadata": {},
     "execution_count": 38
    }
   ],
   "source": [
    "pd.concat([df, df])"
   ]
  },
  {
   "cell_type": "code",
   "execution_count": 40,
   "metadata": {},
   "outputs": [
    {
     "output_type": "execute_result",
     "data": {
      "text/plain": "          A         B         C         D\n0  0.105187  0.453855  0.362181  0.365660\n1  0.175264  0.950316  0.989359  0.285285\n2  0.770039  0.376572  0.036452  0.438301\n3  0.686089  0.691043  0.972436  0.444268\n4  0.144402  0.762777  0.355366  0.033292\n5  0.521269  0.910149  0.569812  0.124332\n6  0.110210  0.725096  0.843971  0.875794\n7  0.988082  0.461728  0.464412  0.905240",
      "text/html": "<div>\n<style scoped>\n    .dataframe tbody tr th:only-of-type {\n        vertical-align: middle;\n    }\n\n    .dataframe tbody tr th {\n        vertical-align: top;\n    }\n\n    .dataframe thead th {\n        text-align: right;\n    }\n</style>\n<table border=\"1\" class=\"dataframe\">\n  <thead>\n    <tr style=\"text-align: right;\">\n      <th></th>\n      <th>A</th>\n      <th>B</th>\n      <th>C</th>\n      <th>D</th>\n    </tr>\n  </thead>\n  <tbody>\n    <tr>\n      <th>0</th>\n      <td>0.105187</td>\n      <td>0.453855</td>\n      <td>0.362181</td>\n      <td>0.365660</td>\n    </tr>\n    <tr>\n      <th>1</th>\n      <td>0.175264</td>\n      <td>0.950316</td>\n      <td>0.989359</td>\n      <td>0.285285</td>\n    </tr>\n    <tr>\n      <th>2</th>\n      <td>0.770039</td>\n      <td>0.376572</td>\n      <td>0.036452</td>\n      <td>0.438301</td>\n    </tr>\n    <tr>\n      <th>3</th>\n      <td>0.686089</td>\n      <td>0.691043</td>\n      <td>0.972436</td>\n      <td>0.444268</td>\n    </tr>\n    <tr>\n      <th>4</th>\n      <td>0.144402</td>\n      <td>0.762777</td>\n      <td>0.355366</td>\n      <td>0.033292</td>\n    </tr>\n    <tr>\n      <th>5</th>\n      <td>0.521269</td>\n      <td>0.910149</td>\n      <td>0.569812</td>\n      <td>0.124332</td>\n    </tr>\n    <tr>\n      <th>6</th>\n      <td>0.110210</td>\n      <td>0.725096</td>\n      <td>0.843971</td>\n      <td>0.875794</td>\n    </tr>\n    <tr>\n      <th>7</th>\n      <td>0.988082</td>\n      <td>0.461728</td>\n      <td>0.464412</td>\n      <td>0.905240</td>\n    </tr>\n  </tbody>\n</table>\n</div>"
     },
     "metadata": {},
     "execution_count": 40
    }
   ],
   "source": [
    "df = pd.DataFrame(np.random.rand(8, 4), columns=['A', 'B', 'C', 'D'])\n",
    "df"
   ]
  },
  {
   "cell_type": "code",
   "execution_count": 41,
   "metadata": {},
   "outputs": [
    {
     "output_type": "execute_result",
     "data": {
      "text/plain": "A    0.105187\nB    0.453855\nC    0.362181\nD    0.365660\nName: 0, dtype: float64"
     },
     "metadata": {},
     "execution_count": 41
    }
   ],
   "source": [
    "s = df.iloc[0]\n",
    "s"
   ]
  },
  {
   "cell_type": "code",
   "execution_count": 42,
   "metadata": {},
   "outputs": [
    {
     "output_type": "execute_result",
     "data": {
      "text/plain": "          A         B         C         D\n0  0.105187  0.453855  0.362181  0.365660\n1  0.175264  0.950316  0.989359  0.285285\n2  0.770039  0.376572  0.036452  0.438301\n3  0.686089  0.691043  0.972436  0.444268\n4  0.144402  0.762777  0.355366  0.033292\n5  0.521269  0.910149  0.569812  0.124332\n6  0.110210  0.725096  0.843971  0.875794\n7  0.988082  0.461728  0.464412  0.905240\n0  0.105187  0.453855  0.362181  0.365660",
      "text/html": "<div>\n<style scoped>\n    .dataframe tbody tr th:only-of-type {\n        vertical-align: middle;\n    }\n\n    .dataframe tbody tr th {\n        vertical-align: top;\n    }\n\n    .dataframe thead th {\n        text-align: right;\n    }\n</style>\n<table border=\"1\" class=\"dataframe\">\n  <thead>\n    <tr style=\"text-align: right;\">\n      <th></th>\n      <th>A</th>\n      <th>B</th>\n      <th>C</th>\n      <th>D</th>\n    </tr>\n  </thead>\n  <tbody>\n    <tr>\n      <th>0</th>\n      <td>0.105187</td>\n      <td>0.453855</td>\n      <td>0.362181</td>\n      <td>0.365660</td>\n    </tr>\n    <tr>\n      <th>1</th>\n      <td>0.175264</td>\n      <td>0.950316</td>\n      <td>0.989359</td>\n      <td>0.285285</td>\n    </tr>\n    <tr>\n      <th>2</th>\n      <td>0.770039</td>\n      <td>0.376572</td>\n      <td>0.036452</td>\n      <td>0.438301</td>\n    </tr>\n    <tr>\n      <th>3</th>\n      <td>0.686089</td>\n      <td>0.691043</td>\n      <td>0.972436</td>\n      <td>0.444268</td>\n    </tr>\n    <tr>\n      <th>4</th>\n      <td>0.144402</td>\n      <td>0.762777</td>\n      <td>0.355366</td>\n      <td>0.033292</td>\n    </tr>\n    <tr>\n      <th>5</th>\n      <td>0.521269</td>\n      <td>0.910149</td>\n      <td>0.569812</td>\n      <td>0.124332</td>\n    </tr>\n    <tr>\n      <th>6</th>\n      <td>0.110210</td>\n      <td>0.725096</td>\n      <td>0.843971</td>\n      <td>0.875794</td>\n    </tr>\n    <tr>\n      <th>7</th>\n      <td>0.988082</td>\n      <td>0.461728</td>\n      <td>0.464412</td>\n      <td>0.905240</td>\n    </tr>\n    <tr>\n      <th>0</th>\n      <td>0.105187</td>\n      <td>0.453855</td>\n      <td>0.362181</td>\n      <td>0.365660</td>\n    </tr>\n  </tbody>\n</table>\n</div>"
     },
     "metadata": {},
     "execution_count": 42
    }
   ],
   "source": [
    "df.append(s)"
   ]
  },
  {
   "cell_type": "code",
   "execution_count": 43,
   "metadata": {},
   "outputs": [
    {
     "output_type": "execute_result",
     "data": {
      "text/plain": "          A         B         C         D\n0  0.105187  0.453855  0.362181  0.365660\n1  0.175264  0.950316  0.989359  0.285285\n2  0.770039  0.376572  0.036452  0.438301\n3  0.686089  0.691043  0.972436  0.444268\n4  0.144402  0.762777  0.355366  0.033292\n5  0.521269  0.910149  0.569812  0.124332\n6  0.110210  0.725096  0.843971  0.875794\n7  0.988082  0.461728  0.464412  0.905240\n8  0.105187  0.453855  0.362181  0.365660",
      "text/html": "<div>\n<style scoped>\n    .dataframe tbody tr th:only-of-type {\n        vertical-align: middle;\n    }\n\n    .dataframe tbody tr th {\n        vertical-align: top;\n    }\n\n    .dataframe thead th {\n        text-align: right;\n    }\n</style>\n<table border=\"1\" class=\"dataframe\">\n  <thead>\n    <tr style=\"text-align: right;\">\n      <th></th>\n      <th>A</th>\n      <th>B</th>\n      <th>C</th>\n      <th>D</th>\n    </tr>\n  </thead>\n  <tbody>\n    <tr>\n      <th>0</th>\n      <td>0.105187</td>\n      <td>0.453855</td>\n      <td>0.362181</td>\n      <td>0.365660</td>\n    </tr>\n    <tr>\n      <th>1</th>\n      <td>0.175264</td>\n      <td>0.950316</td>\n      <td>0.989359</td>\n      <td>0.285285</td>\n    </tr>\n    <tr>\n      <th>2</th>\n      <td>0.770039</td>\n      <td>0.376572</td>\n      <td>0.036452</td>\n      <td>0.438301</td>\n    </tr>\n    <tr>\n      <th>3</th>\n      <td>0.686089</td>\n      <td>0.691043</td>\n      <td>0.972436</td>\n      <td>0.444268</td>\n    </tr>\n    <tr>\n      <th>4</th>\n      <td>0.144402</td>\n      <td>0.762777</td>\n      <td>0.355366</td>\n      <td>0.033292</td>\n    </tr>\n    <tr>\n      <th>5</th>\n      <td>0.521269</td>\n      <td>0.910149</td>\n      <td>0.569812</td>\n      <td>0.124332</td>\n    </tr>\n    <tr>\n      <th>6</th>\n      <td>0.110210</td>\n      <td>0.725096</td>\n      <td>0.843971</td>\n      <td>0.875794</td>\n    </tr>\n    <tr>\n      <th>7</th>\n      <td>0.988082</td>\n      <td>0.461728</td>\n      <td>0.464412</td>\n      <td>0.905240</td>\n    </tr>\n    <tr>\n      <th>8</th>\n      <td>0.105187</td>\n      <td>0.453855</td>\n      <td>0.362181</td>\n      <td>0.365660</td>\n    </tr>\n  </tbody>\n</table>\n</div>"
     },
     "metadata": {},
     "execution_count": 43
    }
   ],
   "source": [
    "df.append(s, ignore_index=True)"
   ]
  },
  {
   "cell_type": "code",
   "execution_count": 44,
   "metadata": {},
   "outputs": [
    {
     "output_type": "execute_result",
     "data": {
      "text/plain": "     A         B\n0  foo  0.325961\n1  bar -0.803420\n2  foo -0.570638\n3  bar  0.087264",
      "text/html": "<div>\n<style scoped>\n    .dataframe tbody tr th:only-of-type {\n        vertical-align: middle;\n    }\n\n    .dataframe tbody tr th {\n        vertical-align: top;\n    }\n\n    .dataframe thead th {\n        text-align: right;\n    }\n</style>\n<table border=\"1\" class=\"dataframe\">\n  <thead>\n    <tr style=\"text-align: right;\">\n      <th></th>\n      <th>A</th>\n      <th>B</th>\n    </tr>\n  </thead>\n  <tbody>\n    <tr>\n      <th>0</th>\n      <td>foo</td>\n      <td>0.325961</td>\n    </tr>\n    <tr>\n      <th>1</th>\n      <td>bar</td>\n      <td>-0.803420</td>\n    </tr>\n    <tr>\n      <th>2</th>\n      <td>foo</td>\n      <td>-0.570638</td>\n    </tr>\n    <tr>\n      <th>3</th>\n      <td>bar</td>\n      <td>0.087264</td>\n    </tr>\n  </tbody>\n</table>\n</div>"
     },
     "metadata": {},
     "execution_count": 44
    }
   ],
   "source": [
    "df = pd.DataFrame({'A': ['foo', 'bar', 'foo', 'bar'], 'B': np.random.randn(4)})\n",
    "df"
   ]
  },
  {
   "cell_type": "code",
   "execution_count": 45,
   "metadata": {},
   "outputs": [
    {
     "output_type": "execute_result",
     "data": {
      "text/plain": "            B\nA            \nbar -0.716156\nfoo -0.244676",
      "text/html": "<div>\n<style scoped>\n    .dataframe tbody tr th:only-of-type {\n        vertical-align: middle;\n    }\n\n    .dataframe tbody tr th {\n        vertical-align: top;\n    }\n\n    .dataframe thead th {\n        text-align: right;\n    }\n</style>\n<table border=\"1\" class=\"dataframe\">\n  <thead>\n    <tr style=\"text-align: right;\">\n      <th></th>\n      <th>B</th>\n    </tr>\n    <tr>\n      <th>A</th>\n      <th></th>\n    </tr>\n  </thead>\n  <tbody>\n    <tr>\n      <th>bar</th>\n      <td>-0.716156</td>\n    </tr>\n    <tr>\n      <th>foo</th>\n      <td>-0.244676</td>\n    </tr>\n  </tbody>\n</table>\n</div>"
     },
     "metadata": {},
     "execution_count": 45
    }
   ],
   "source": [
    "df.groupby('A').sum()"
   ]
  },
  {
   "cell_type": "code",
   "execution_count": 46,
   "metadata": {},
   "outputs": [],
   "source": [
    "import pandas_datareader"
   ]
  },
  {
   "cell_type": "code",
   "execution_count": 47,
   "metadata": {},
   "outputs": [],
   "source": [
    "df = pandas_datareader.data.DataReader('AAPL', 'yahoo', '2014-01-01')"
   ]
  },
  {
   "cell_type": "code",
   "execution_count": 48,
   "metadata": {},
   "outputs": [
    {
     "output_type": "execute_result",
     "data": {
      "text/plain": "                  High         Low        Open       Close        Volume  \\\nDate                                                                       \n2013-12-31   20.045713   19.785715   19.791786   20.036428  2.230844e+08   \n2014-01-02   19.893929   19.715000   19.845715   19.754642  2.346848e+08   \n2014-01-03   19.775000   19.301071   19.745001   19.320715  3.924676e+08   \n2014-01-06   19.528572   19.057142   19.194643   19.426071  4.126108e+08   \n2014-01-07   19.498571   19.211428   19.440001   19.287144  3.172092e+08   \n2014-01-08   19.484285   19.238928   19.243214   19.409286  2.585296e+08   \n2014-01-09   19.530714   19.119642   19.528572   19.161428  2.791488e+08   \n2014-01-10   19.314285   18.968214   19.279642   19.033571  3.049760e+08   \n2014-01-13   19.375000   18.924286   18.925358   19.133215  3.784928e+08   \n2014-01-14   19.526072   19.202143   19.222143   19.513929  3.325616e+08   \n2014-01-15   20.007143   19.702143   19.768572   19.905714  3.916388e+08   \n2014-01-16   19.887501   19.702858   19.817858   19.794643  2.292780e+08   \n2014-01-17   19.716785   19.282143   19.695715   19.309643  4.267396e+08   \n2014-01-21   19.645357   19.300714   19.321072   19.609642  3.285268e+08   \n2014-01-22   19.903214   19.564642   19.675358   19.696785  3.799852e+08   \n2014-01-23   19.875000   19.457500   19.640715   19.863571  4.032392e+08   \n2014-01-24   19.843571   19.455357   19.785715   19.502501  4.293548e+08   \n2014-01-27   19.814285   19.491072   19.645357   19.660715  5.548788e+08   \n2014-01-28   18.392857   17.931072   18.170000   18.089285  1.065523e+09   \n2014-01-29   18.120358   17.807858   17.998215   17.883928  5.028100e+08   \n2014-01-30   18.089285   17.739286   17.947857   17.849285  6.785016e+08   \n2014-01-31   17.911785   17.626785   17.684999   17.878571  4.647972e+08   \n2014-02-03   18.133215   17.832144   17.950357   17.911785  4.014640e+08   \n2014-02-04   18.195000   17.955715   18.066071   18.171072  3.766812e+08   \n2014-02-05   18.402857   18.080357   18.091429   18.306786  3.283448e+08   \n2014-02-06   18.339285   18.136072   18.216429   18.303928  2.577652e+08   \n2014-02-07   18.676071   18.477858   18.620714   18.559999  3.702804e+08   \n2014-02-10   18.999643   18.500000   18.523571   18.892500  3.455592e+08   \n2014-02-11   19.205357   18.910715   18.950357   19.141428  2.822568e+08   \n2014-02-12   19.270000   19.044285   19.176786   19.139999  3.081008e+08   \n...                ...         ...         ...         ...           ...   \n2020-08-11  112.482498  109.107498  111.970001  109.375000  1.879024e+08   \n2020-08-12  113.275002  110.297501  110.497498  113.010002  1.659448e+08   \n2020-08-13  116.042503  113.927498  114.430000  115.010002  2.100820e+08   \n2020-08-14  115.000000  113.044998  114.830002  114.907501  1.655652e+08   \n2020-08-17  116.087502  113.962502  116.062500  114.607498  1.195616e+08   \n2020-08-18  116.000000  114.007500  114.352501  115.562500  1.056336e+08   \n2020-08-19  117.162498  115.610001  115.982498  115.707497  1.455380e+08   \n2020-08-20  118.392502  115.732498  115.750000  118.275002  1.269072e+08   \n2020-08-21  124.867500  119.250000  119.262497  124.370003  3.380548e+08   \n2020-08-24  128.785004  123.937500  128.697495  125.857498  3.459376e+08   \n2020-08-25  125.180000  123.052498  124.697502  124.824997  2.114956e+08   \n2020-08-26  126.992500  125.082497  126.180000  126.522499  1.630224e+08   \n2020-08-27  127.485001  123.832497  127.142502  125.010002  1.555524e+08   \n2020-08-28  126.442497  124.577499  126.012497  124.807503  1.876300e+08   \n2020-08-31  131.000000  126.000000  127.580002  129.039993  2.257027e+08   \n2020-09-01  134.800003  130.529999  132.759995  134.179993  1.524701e+08   \n2020-09-02  137.979996  127.000000  137.589996  131.399994  2.001190e+08   \n2020-09-03  128.839996  120.500000  126.910004  120.879997  2.575996e+08   \n2020-09-04  123.699997  110.889999  120.070000  120.959999  3.326072e+08   \n2020-09-08  118.989998  112.680000  113.949997  112.820000  2.313666e+08   \n2020-09-09  119.139999  115.260002  117.260002  117.320000  1.769405e+08   \n2020-09-10  120.500000  112.500000  120.360001  113.489998  1.822744e+08   \n2020-09-11  115.230003  110.000000  114.570000  112.000000  1.808603e+08   \n2020-09-14  115.930000  112.800003  114.720001  115.360001  1.401501e+08   \n2020-09-15  118.830002  113.610001  118.330002  115.540001  1.846420e+08   \n2020-09-16  116.000000  112.040001  115.230003  112.129997  1.546790e+08   \n2020-09-17  112.199997  108.709999  109.720001  110.339996  1.780110e+08   \n2020-09-18  110.879997  106.089996  110.400002  106.839996  2.871049e+08   \n2020-09-21  110.190002  103.099998  104.540001  110.080002  1.957138e+08   \n2020-09-22  112.860001  109.160004  112.680000  111.809998  1.822963e+08   \n\n             Adj Close  \nDate                    \n2013-12-31   17.906834  \n2014-01-02   17.655001  \n2014-01-03   17.267195  \n2014-01-06   17.361351  \n2014-01-07   17.237186  \n2014-01-08   17.346355  \n2014-01-09   17.124836  \n2014-01-10   17.010567  \n2014-01-13   17.099621  \n2014-01-14   17.439869  \n2014-01-15   17.790016  \n2014-01-16   17.690750  \n2014-01-17   17.257294  \n2014-01-21   17.525410  \n2014-01-22   17.603291  \n2014-01-23   17.752350  \n2014-01-24   17.429659  \n2014-01-27   17.571051  \n2014-01-28   16.166645  \n2014-01-29   15.983117  \n2014-01-30   15.952156  \n2014-01-31   15.978329  \n2014-02-03   16.008011  \n2014-02-04   16.239738  \n2014-02-05   16.361029  \n2014-02-06   16.456394  \n2014-02-07   16.686625  \n2014-02-10   16.985558  \n2014-02-11   17.209360  \n2014-02-12   17.208076  \n...                ...  \n2020-08-11  109.375000  \n2020-08-12  113.010002  \n2020-08-13  115.010002  \n2020-08-14  114.907501  \n2020-08-17  114.607498  \n2020-08-18  115.562500  \n2020-08-19  115.707497  \n2020-08-20  118.275002  \n2020-08-21  124.370003  \n2020-08-24  125.857498  \n2020-08-25  124.824997  \n2020-08-26  126.522499  \n2020-08-27  125.010002  \n2020-08-28  124.807503  \n2020-08-31  129.039993  \n2020-09-01  134.179993  \n2020-09-02  131.399994  \n2020-09-03  120.879997  \n2020-09-04  120.959999  \n2020-09-08  112.820000  \n2020-09-09  117.320000  \n2020-09-10  113.489998  \n2020-09-11  112.000000  \n2020-09-14  115.360001  \n2020-09-15  115.540001  \n2020-09-16  112.129997  \n2020-09-17  110.339996  \n2020-09-18  106.839996  \n2020-09-21  110.080002  \n2020-09-22  111.809998  \n\n[1694 rows x 6 columns]",
      "text/html": "<div>\n<style scoped>\n    .dataframe tbody tr th:only-of-type {\n        vertical-align: middle;\n    }\n\n    .dataframe tbody tr th {\n        vertical-align: top;\n    }\n\n    .dataframe thead th {\n        text-align: right;\n    }\n</style>\n<table border=\"1\" class=\"dataframe\">\n  <thead>\n    <tr style=\"text-align: right;\">\n      <th></th>\n      <th>High</th>\n      <th>Low</th>\n      <th>Open</th>\n      <th>Close</th>\n      <th>Volume</th>\n      <th>Adj Close</th>\n    </tr>\n    <tr>\n      <th>Date</th>\n      <th></th>\n      <th></th>\n      <th></th>\n      <th></th>\n      <th></th>\n      <th></th>\n    </tr>\n  </thead>\n  <tbody>\n    <tr>\n      <th>2013-12-31</th>\n      <td>20.045713</td>\n      <td>19.785715</td>\n      <td>19.791786</td>\n      <td>20.036428</td>\n      <td>2.230844e+08</td>\n      <td>17.906834</td>\n    </tr>\n    <tr>\n      <th>2014-01-02</th>\n      <td>19.893929</td>\n      <td>19.715000</td>\n      <td>19.845715</td>\n      <td>19.754642</td>\n      <td>2.346848e+08</td>\n      <td>17.655001</td>\n    </tr>\n    <tr>\n      <th>2014-01-03</th>\n      <td>19.775000</td>\n      <td>19.301071</td>\n      <td>19.745001</td>\n      <td>19.320715</td>\n      <td>3.924676e+08</td>\n      <td>17.267195</td>\n    </tr>\n    <tr>\n      <th>2014-01-06</th>\n      <td>19.528572</td>\n      <td>19.057142</td>\n      <td>19.194643</td>\n      <td>19.426071</td>\n      <td>4.126108e+08</td>\n      <td>17.361351</td>\n    </tr>\n    <tr>\n      <th>2014-01-07</th>\n      <td>19.498571</td>\n      <td>19.211428</td>\n      <td>19.440001</td>\n      <td>19.287144</td>\n      <td>3.172092e+08</td>\n      <td>17.237186</td>\n    </tr>\n    <tr>\n      <th>2014-01-08</th>\n      <td>19.484285</td>\n      <td>19.238928</td>\n      <td>19.243214</td>\n      <td>19.409286</td>\n      <td>2.585296e+08</td>\n      <td>17.346355</td>\n    </tr>\n    <tr>\n      <th>2014-01-09</th>\n      <td>19.530714</td>\n      <td>19.119642</td>\n      <td>19.528572</td>\n      <td>19.161428</td>\n      <td>2.791488e+08</td>\n      <td>17.124836</td>\n    </tr>\n    <tr>\n      <th>2014-01-10</th>\n      <td>19.314285</td>\n      <td>18.968214</td>\n      <td>19.279642</td>\n      <td>19.033571</td>\n      <td>3.049760e+08</td>\n      <td>17.010567</td>\n    </tr>\n    <tr>\n      <th>2014-01-13</th>\n      <td>19.375000</td>\n      <td>18.924286</td>\n      <td>18.925358</td>\n      <td>19.133215</td>\n      <td>3.784928e+08</td>\n      <td>17.099621</td>\n    </tr>\n    <tr>\n      <th>2014-01-14</th>\n      <td>19.526072</td>\n      <td>19.202143</td>\n      <td>19.222143</td>\n      <td>19.513929</td>\n      <td>3.325616e+08</td>\n      <td>17.439869</td>\n    </tr>\n    <tr>\n      <th>2014-01-15</th>\n      <td>20.007143</td>\n      <td>19.702143</td>\n      <td>19.768572</td>\n      <td>19.905714</td>\n      <td>3.916388e+08</td>\n      <td>17.790016</td>\n    </tr>\n    <tr>\n      <th>2014-01-16</th>\n      <td>19.887501</td>\n      <td>19.702858</td>\n      <td>19.817858</td>\n      <td>19.794643</td>\n      <td>2.292780e+08</td>\n      <td>17.690750</td>\n    </tr>\n    <tr>\n      <th>2014-01-17</th>\n      <td>19.716785</td>\n      <td>19.282143</td>\n      <td>19.695715</td>\n      <td>19.309643</td>\n      <td>4.267396e+08</td>\n      <td>17.257294</td>\n    </tr>\n    <tr>\n      <th>2014-01-21</th>\n      <td>19.645357</td>\n      <td>19.300714</td>\n      <td>19.321072</td>\n      <td>19.609642</td>\n      <td>3.285268e+08</td>\n      <td>17.525410</td>\n    </tr>\n    <tr>\n      <th>2014-01-22</th>\n      <td>19.903214</td>\n      <td>19.564642</td>\n      <td>19.675358</td>\n      <td>19.696785</td>\n      <td>3.799852e+08</td>\n      <td>17.603291</td>\n    </tr>\n    <tr>\n      <th>2014-01-23</th>\n      <td>19.875000</td>\n      <td>19.457500</td>\n      <td>19.640715</td>\n      <td>19.863571</td>\n      <td>4.032392e+08</td>\n      <td>17.752350</td>\n    </tr>\n    <tr>\n      <th>2014-01-24</th>\n      <td>19.843571</td>\n      <td>19.455357</td>\n      <td>19.785715</td>\n      <td>19.502501</td>\n      <td>4.293548e+08</td>\n      <td>17.429659</td>\n    </tr>\n    <tr>\n      <th>2014-01-27</th>\n      <td>19.814285</td>\n      <td>19.491072</td>\n      <td>19.645357</td>\n      <td>19.660715</td>\n      <td>5.548788e+08</td>\n      <td>17.571051</td>\n    </tr>\n    <tr>\n      <th>2014-01-28</th>\n      <td>18.392857</td>\n      <td>17.931072</td>\n      <td>18.170000</td>\n      <td>18.089285</td>\n      <td>1.065523e+09</td>\n      <td>16.166645</td>\n    </tr>\n    <tr>\n      <th>2014-01-29</th>\n      <td>18.120358</td>\n      <td>17.807858</td>\n      <td>17.998215</td>\n      <td>17.883928</td>\n      <td>5.028100e+08</td>\n      <td>15.983117</td>\n    </tr>\n    <tr>\n      <th>2014-01-30</th>\n      <td>18.089285</td>\n      <td>17.739286</td>\n      <td>17.947857</td>\n      <td>17.849285</td>\n      <td>6.785016e+08</td>\n      <td>15.952156</td>\n    </tr>\n    <tr>\n      <th>2014-01-31</th>\n      <td>17.911785</td>\n      <td>17.626785</td>\n      <td>17.684999</td>\n      <td>17.878571</td>\n      <td>4.647972e+08</td>\n      <td>15.978329</td>\n    </tr>\n    <tr>\n      <th>2014-02-03</th>\n      <td>18.133215</td>\n      <td>17.832144</td>\n      <td>17.950357</td>\n      <td>17.911785</td>\n      <td>4.014640e+08</td>\n      <td>16.008011</td>\n    </tr>\n    <tr>\n      <th>2014-02-04</th>\n      <td>18.195000</td>\n      <td>17.955715</td>\n      <td>18.066071</td>\n      <td>18.171072</td>\n      <td>3.766812e+08</td>\n      <td>16.239738</td>\n    </tr>\n    <tr>\n      <th>2014-02-05</th>\n      <td>18.402857</td>\n      <td>18.080357</td>\n      <td>18.091429</td>\n      <td>18.306786</td>\n      <td>3.283448e+08</td>\n      <td>16.361029</td>\n    </tr>\n    <tr>\n      <th>2014-02-06</th>\n      <td>18.339285</td>\n      <td>18.136072</td>\n      <td>18.216429</td>\n      <td>18.303928</td>\n      <td>2.577652e+08</td>\n      <td>16.456394</td>\n    </tr>\n    <tr>\n      <th>2014-02-07</th>\n      <td>18.676071</td>\n      <td>18.477858</td>\n      <td>18.620714</td>\n      <td>18.559999</td>\n      <td>3.702804e+08</td>\n      <td>16.686625</td>\n    </tr>\n    <tr>\n      <th>2014-02-10</th>\n      <td>18.999643</td>\n      <td>18.500000</td>\n      <td>18.523571</td>\n      <td>18.892500</td>\n      <td>3.455592e+08</td>\n      <td>16.985558</td>\n    </tr>\n    <tr>\n      <th>2014-02-11</th>\n      <td>19.205357</td>\n      <td>18.910715</td>\n      <td>18.950357</td>\n      <td>19.141428</td>\n      <td>2.822568e+08</td>\n      <td>17.209360</td>\n    </tr>\n    <tr>\n      <th>2014-02-12</th>\n      <td>19.270000</td>\n      <td>19.044285</td>\n      <td>19.176786</td>\n      <td>19.139999</td>\n      <td>3.081008e+08</td>\n      <td>17.208076</td>\n    </tr>\n    <tr>\n      <th>...</th>\n      <td>...</td>\n      <td>...</td>\n      <td>...</td>\n      <td>...</td>\n      <td>...</td>\n      <td>...</td>\n    </tr>\n    <tr>\n      <th>2020-08-11</th>\n      <td>112.482498</td>\n      <td>109.107498</td>\n      <td>111.970001</td>\n      <td>109.375000</td>\n      <td>1.879024e+08</td>\n      <td>109.375000</td>\n    </tr>\n    <tr>\n      <th>2020-08-12</th>\n      <td>113.275002</td>\n      <td>110.297501</td>\n      <td>110.497498</td>\n      <td>113.010002</td>\n      <td>1.659448e+08</td>\n      <td>113.010002</td>\n    </tr>\n    <tr>\n      <th>2020-08-13</th>\n      <td>116.042503</td>\n      <td>113.927498</td>\n      <td>114.430000</td>\n      <td>115.010002</td>\n      <td>2.100820e+08</td>\n      <td>115.010002</td>\n    </tr>\n    <tr>\n      <th>2020-08-14</th>\n      <td>115.000000</td>\n      <td>113.044998</td>\n      <td>114.830002</td>\n      <td>114.907501</td>\n      <td>1.655652e+08</td>\n      <td>114.907501</td>\n    </tr>\n    <tr>\n      <th>2020-08-17</th>\n      <td>116.087502</td>\n      <td>113.962502</td>\n      <td>116.062500</td>\n      <td>114.607498</td>\n      <td>1.195616e+08</td>\n      <td>114.607498</td>\n    </tr>\n    <tr>\n      <th>2020-08-18</th>\n      <td>116.000000</td>\n      <td>114.007500</td>\n      <td>114.352501</td>\n      <td>115.562500</td>\n      <td>1.056336e+08</td>\n      <td>115.562500</td>\n    </tr>\n    <tr>\n      <th>2020-08-19</th>\n      <td>117.162498</td>\n      <td>115.610001</td>\n      <td>115.982498</td>\n      <td>115.707497</td>\n      <td>1.455380e+08</td>\n      <td>115.707497</td>\n    </tr>\n    <tr>\n      <th>2020-08-20</th>\n      <td>118.392502</td>\n      <td>115.732498</td>\n      <td>115.750000</td>\n      <td>118.275002</td>\n      <td>1.269072e+08</td>\n      <td>118.275002</td>\n    </tr>\n    <tr>\n      <th>2020-08-21</th>\n      <td>124.867500</td>\n      <td>119.250000</td>\n      <td>119.262497</td>\n      <td>124.370003</td>\n      <td>3.380548e+08</td>\n      <td>124.370003</td>\n    </tr>\n    <tr>\n      <th>2020-08-24</th>\n      <td>128.785004</td>\n      <td>123.937500</td>\n      <td>128.697495</td>\n      <td>125.857498</td>\n      <td>3.459376e+08</td>\n      <td>125.857498</td>\n    </tr>\n    <tr>\n      <th>2020-08-25</th>\n      <td>125.180000</td>\n      <td>123.052498</td>\n      <td>124.697502</td>\n      <td>124.824997</td>\n      <td>2.114956e+08</td>\n      <td>124.824997</td>\n    </tr>\n    <tr>\n      <th>2020-08-26</th>\n      <td>126.992500</td>\n      <td>125.082497</td>\n      <td>126.180000</td>\n      <td>126.522499</td>\n      <td>1.630224e+08</td>\n      <td>126.522499</td>\n    </tr>\n    <tr>\n      <th>2020-08-27</th>\n      <td>127.485001</td>\n      <td>123.832497</td>\n      <td>127.142502</td>\n      <td>125.010002</td>\n      <td>1.555524e+08</td>\n      <td>125.010002</td>\n    </tr>\n    <tr>\n      <th>2020-08-28</th>\n      <td>126.442497</td>\n      <td>124.577499</td>\n      <td>126.012497</td>\n      <td>124.807503</td>\n      <td>1.876300e+08</td>\n      <td>124.807503</td>\n    </tr>\n    <tr>\n      <th>2020-08-31</th>\n      <td>131.000000</td>\n      <td>126.000000</td>\n      <td>127.580002</td>\n      <td>129.039993</td>\n      <td>2.257027e+08</td>\n      <td>129.039993</td>\n    </tr>\n    <tr>\n      <th>2020-09-01</th>\n      <td>134.800003</td>\n      <td>130.529999</td>\n      <td>132.759995</td>\n      <td>134.179993</td>\n      <td>1.524701e+08</td>\n      <td>134.179993</td>\n    </tr>\n    <tr>\n      <th>2020-09-02</th>\n      <td>137.979996</td>\n      <td>127.000000</td>\n      <td>137.589996</td>\n      <td>131.399994</td>\n      <td>2.001190e+08</td>\n      <td>131.399994</td>\n    </tr>\n    <tr>\n      <th>2020-09-03</th>\n      <td>128.839996</td>\n      <td>120.500000</td>\n      <td>126.910004</td>\n      <td>120.879997</td>\n      <td>2.575996e+08</td>\n      <td>120.879997</td>\n    </tr>\n    <tr>\n      <th>2020-09-04</th>\n      <td>123.699997</td>\n      <td>110.889999</td>\n      <td>120.070000</td>\n      <td>120.959999</td>\n      <td>3.326072e+08</td>\n      <td>120.959999</td>\n    </tr>\n    <tr>\n      <th>2020-09-08</th>\n      <td>118.989998</td>\n      <td>112.680000</td>\n      <td>113.949997</td>\n      <td>112.820000</td>\n      <td>2.313666e+08</td>\n      <td>112.820000</td>\n    </tr>\n    <tr>\n      <th>2020-09-09</th>\n      <td>119.139999</td>\n      <td>115.260002</td>\n      <td>117.260002</td>\n      <td>117.320000</td>\n      <td>1.769405e+08</td>\n      <td>117.320000</td>\n    </tr>\n    <tr>\n      <th>2020-09-10</th>\n      <td>120.500000</td>\n      <td>112.500000</td>\n      <td>120.360001</td>\n      <td>113.489998</td>\n      <td>1.822744e+08</td>\n      <td>113.489998</td>\n    </tr>\n    <tr>\n      <th>2020-09-11</th>\n      <td>115.230003</td>\n      <td>110.000000</td>\n      <td>114.570000</td>\n      <td>112.000000</td>\n      <td>1.808603e+08</td>\n      <td>112.000000</td>\n    </tr>\n    <tr>\n      <th>2020-09-14</th>\n      <td>115.930000</td>\n      <td>112.800003</td>\n      <td>114.720001</td>\n      <td>115.360001</td>\n      <td>1.401501e+08</td>\n      <td>115.360001</td>\n    </tr>\n    <tr>\n      <th>2020-09-15</th>\n      <td>118.830002</td>\n      <td>113.610001</td>\n      <td>118.330002</td>\n      <td>115.540001</td>\n      <td>1.846420e+08</td>\n      <td>115.540001</td>\n    </tr>\n    <tr>\n      <th>2020-09-16</th>\n      <td>116.000000</td>\n      <td>112.040001</td>\n      <td>115.230003</td>\n      <td>112.129997</td>\n      <td>1.546790e+08</td>\n      <td>112.129997</td>\n    </tr>\n    <tr>\n      <th>2020-09-17</th>\n      <td>112.199997</td>\n      <td>108.709999</td>\n      <td>109.720001</td>\n      <td>110.339996</td>\n      <td>1.780110e+08</td>\n      <td>110.339996</td>\n    </tr>\n    <tr>\n      <th>2020-09-18</th>\n      <td>110.879997</td>\n      <td>106.089996</td>\n      <td>110.400002</td>\n      <td>106.839996</td>\n      <td>2.871049e+08</td>\n      <td>106.839996</td>\n    </tr>\n    <tr>\n      <th>2020-09-21</th>\n      <td>110.190002</td>\n      <td>103.099998</td>\n      <td>104.540001</td>\n      <td>110.080002</td>\n      <td>1.957138e+08</td>\n      <td>110.080002</td>\n    </tr>\n    <tr>\n      <th>2020-09-22</th>\n      <td>112.860001</td>\n      <td>109.160004</td>\n      <td>112.680000</td>\n      <td>111.809998</td>\n      <td>1.822963e+08</td>\n      <td>111.809998</td>\n    </tr>\n  </tbody>\n</table>\n<p>1694 rows × 6 columns</p>\n</div>"
     },
     "metadata": {},
     "execution_count": 48
    }
   ],
   "source": [
    "df"
   ]
  },
  {
   "cell_type": "code",
   "execution_count": 49,
   "metadata": {},
   "outputs": [
    {
     "output_type": "execute_result",
     "data": {
      "text/plain": "                 High        Low       Open      Close       Volume  Adj Close\nDate                                                                          \n2013-12-31  20.045713  19.785715  19.791786  20.036428  223084400.0  17.906834",
      "text/html": "<div>\n<style scoped>\n    .dataframe tbody tr th:only-of-type {\n        vertical-align: middle;\n    }\n\n    .dataframe tbody tr th {\n        vertical-align: top;\n    }\n\n    .dataframe thead th {\n        text-align: right;\n    }\n</style>\n<table border=\"1\" class=\"dataframe\">\n  <thead>\n    <tr style=\"text-align: right;\">\n      <th></th>\n      <th>High</th>\n      <th>Low</th>\n      <th>Open</th>\n      <th>Close</th>\n      <th>Volume</th>\n      <th>Adj Close</th>\n    </tr>\n    <tr>\n      <th>Date</th>\n      <th></th>\n      <th></th>\n      <th></th>\n      <th></th>\n      <th></th>\n      <th></th>\n    </tr>\n  </thead>\n  <tbody>\n    <tr>\n      <th>2013-12-31</th>\n      <td>20.045713</td>\n      <td>19.785715</td>\n      <td>19.791786</td>\n      <td>20.036428</td>\n      <td>223084400.0</td>\n      <td>17.906834</td>\n    </tr>\n  </tbody>\n</table>\n</div>"
     },
     "metadata": {},
     "execution_count": 49
    }
   ],
   "source": [
    "df.head(1)"
   ]
  },
  {
   "cell_type": "code",
   "execution_count": null,
   "metadata": {},
   "outputs": [],
   "source": []
  }
 ]
}